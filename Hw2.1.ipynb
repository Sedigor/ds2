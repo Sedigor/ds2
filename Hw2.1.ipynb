{
 "cells": [
  {
   "cell_type": "code",
   "execution_count": 1,
   "metadata": {},
   "outputs": [],
   "source": [
    "import pandas as pd\n",
    "import matplotlib.pyplot as plt\n",
    "\n",
    "\n",
    "url = 'https://uk.wikipedia.org/wiki/%D0%9D%D0%B0%D1%81%D0%B5%D0%BB%D0%B5%D0%BD%D0%BD%D1%8F_%D0%A3%D0%BA%D1%80%D0%B0%D1%97%D0%BD%D0%B8'\n",
    "tables = pd.read_html(url)\n",
    "data = tables[12]"
   ]
  },
  {
   "cell_type": "code",
   "execution_count": 2,
   "metadata": {},
   "outputs": [
    {
     "name": "stdout",
     "output_type": "stream",
     "text": [
      "             Регіон   1950   1960   1970  1990  2000  2012 2014 2019\n",
      "0              Крим  230.0  206.0  160.0   130    73   126    —    —\n",
      "1         Вінницька  224.0  192.0  142.0   124    84   112  109   76\n",
      "2         Волинська  247.0  250.0  179.0   153   112   148  141  101\n",
      "3  Дніпропетровська  204.0  204.0  151.0   123    71   112  111   71\n",
      "4          Донецька  271.0  214.0  140.0   109    61    98   82    —\n"
     ]
    }
   ],
   "source": [
    "# Вивести перші рядки таблиці за допомогою методу head\n",
    "print(data.head())"
   ]
  },
  {
   "cell_type": "code",
   "execution_count": 3,
   "metadata": {},
   "outputs": [
    {
     "name": "stdout",
     "output_type": "stream",
     "text": [
      "(28, 9)\n"
     ]
    }
   ],
   "source": [
    "# Визначте кількість рядків та стовпців у датафреймі (атрибут shape)\n",
    "print(data.shape)"
   ]
  },
  {
   "cell_type": "code",
   "execution_count": 4,
   "metadata": {},
   "outputs": [
    {
     "name": "stdout",
     "output_type": "stream",
     "text": [
      "               Регіон   1950   1960   1970  1990  2000  2012  2014  2019\n",
      "0                Крим  230.0  206.0  160.0   130    73   126  <NA>  <NA>\n",
      "1           Вінницька  224.0  192.0  142.0   124    84   112   109    76\n",
      "2           Волинська  247.0  250.0  179.0   153   112   148   141   101\n",
      "3    Дніпропетровська  204.0  204.0  151.0   123    71   112   111    71\n",
      "4            Донецька  271.0  214.0  140.0   109    61    98    82  <NA>\n",
      "5         Житомирська  261.0  223.0  159.0   129    89   122   120    79\n",
      "6        Закарпатська  314.0  273.0  207.0   168   115   151   146   104\n",
      "7          Запорізька  219.0  197.0  150.0   124    71   106   106    68\n",
      "8   Івано-Франківська  243.0  248.0  182.0   155   103   124   122    88\n",
      "9            Київська  204.0  189.0  156.0   123    73   122   121    80\n",
      "10     Кіровоградська  216.0  171.0  145.0   126    79   110   108    68\n",
      "11          Луганська  262.0  235.0  144.0   116    62    96    51  <NA>\n",
      "12          Львівська  234.0  240.0  171.0   140    91   119   119    87\n",
      "13       Миколаївська  211.0  194.0  155.0   137    80   115   112    71\n",
      "14            Одеська  241.0  192.0  148.0   126    80   127   123    88\n",
      "15         Полтавська  186.0  163.0  131.0   118    70    99   100    65\n",
      "16         Рівненська  269.0  267.0  193.0   158   118   159   148   107\n",
      "17            Сумська  216.0  184.0  132.0   115    70    97    92    60\n",
      "18      Тернопільська  213.0  216.0  157.0   142    92   113   109    76\n",
      "19         Харківська  197.0  173.0  140.0   114    68    99   101    68\n",
      "20         Херсонська  208.0  214.0  166.0   143    85   117   115    81\n",
      "21        Хмельницька  234.0  198.0  148.0   129    85   113   112    79\n",
      "22          Черкаська  205.0  179.0  144.0   123    75   100    98    64\n",
      "23        Чернівецька  247.0  218.0  170.0   148   101   128   129    92\n",
      "24       Чернігівська  220.0  183.0  127.0   108    69    94    90    61\n",
      "25               Київ    NaN  174.0  159.0   120    73   120   121   110\n",
      "26        Севастополь    NaN    NaN    NaN   125    70   120  <NA>  <NA>\n",
      "27            Україна  228.0  205.0  152.0   126    78   114   111    81\n"
     ]
    }
   ],
   "source": [
    "# Замініть у таблиці значення \"—\" на значення NaN\n",
    "data = data.replace('—', pd.NA)\n",
    "print(data)"
   ]
  },
  {
   "cell_type": "code",
   "execution_count": 5,
   "metadata": {},
   "outputs": [
    {
     "name": "stdout",
     "output_type": "stream",
     "text": [
      "Регіон     object\n",
      "1950      float64\n",
      "1960      float64\n",
      "1970      float64\n",
      "1990        int64\n",
      "2000        int64\n",
      "2012        int64\n",
      "2014       object\n",
      "2019       object\n",
      "dtype: object\n"
     ]
    }
   ],
   "source": [
    "# Визначте типи всіх стовпців за допомогою dataframe.dtypes\n",
    "print(data.dtypes)"
   ]
  },
  {
   "cell_type": "code",
   "execution_count": 6,
   "metadata": {},
   "outputs": [
    {
     "name": "stdout",
     "output_type": "stream",
     "text": [
      "               Регіон   1950   1960   1970  1990  2000  2012   2014   2019\n",
      "0                Крим  230.0  206.0  160.0   130    73   126    NaN    NaN\n",
      "1           Вінницька  224.0  192.0  142.0   124    84   112  109.0   76.0\n",
      "2           Волинська  247.0  250.0  179.0   153   112   148  141.0  101.0\n",
      "3    Дніпропетровська  204.0  204.0  151.0   123    71   112  111.0   71.0\n",
      "4            Донецька  271.0  214.0  140.0   109    61    98   82.0    NaN\n",
      "5         Житомирська  261.0  223.0  159.0   129    89   122  120.0   79.0\n",
      "6        Закарпатська  314.0  273.0  207.0   168   115   151  146.0  104.0\n",
      "7          Запорізька  219.0  197.0  150.0   124    71   106  106.0   68.0\n",
      "8   Івано-Франківська  243.0  248.0  182.0   155   103   124  122.0   88.0\n",
      "9            Київська  204.0  189.0  156.0   123    73   122  121.0   80.0\n",
      "10     Кіровоградська  216.0  171.0  145.0   126    79   110  108.0   68.0\n",
      "11          Луганська  262.0  235.0  144.0   116    62    96   51.0    NaN\n",
      "12          Львівська  234.0  240.0  171.0   140    91   119  119.0   87.0\n",
      "13       Миколаївська  211.0  194.0  155.0   137    80   115  112.0   71.0\n",
      "14            Одеська  241.0  192.0  148.0   126    80   127  123.0   88.0\n",
      "15         Полтавська  186.0  163.0  131.0   118    70    99  100.0   65.0\n",
      "16         Рівненська  269.0  267.0  193.0   158   118   159  148.0  107.0\n",
      "17            Сумська  216.0  184.0  132.0   115    70    97   92.0   60.0\n",
      "18      Тернопільська  213.0  216.0  157.0   142    92   113  109.0   76.0\n",
      "19         Харківська  197.0  173.0  140.0   114    68    99  101.0   68.0\n",
      "20         Херсонська  208.0  214.0  166.0   143    85   117  115.0   81.0\n",
      "21        Хмельницька  234.0  198.0  148.0   129    85   113  112.0   79.0\n",
      "22          Черкаська  205.0  179.0  144.0   123    75   100   98.0   64.0\n",
      "23        Чернівецька  247.0  218.0  170.0   148   101   128  129.0   92.0\n",
      "24       Чернігівська  220.0  183.0  127.0   108    69    94   90.0   61.0\n",
      "25               Київ    NaN  174.0  159.0   120    73   120  121.0  110.0\n",
      "26        Севастополь    NaN    NaN    NaN   125    70   120    NaN    NaN\n",
      "27            Україна  228.0  205.0  152.0   126    78   114  111.0   81.0\n"
     ]
    }
   ],
   "source": [
    "# Замініть типи нечислових колонок на числові. Підказка - це колонки, де знаходився символ \"—\"\n",
    "first_column = data.iloc[:, 0]\n",
    "\n",
    "non_numeric_columns = data.columns[data.dtypes == object][1:]\n",
    "for col in non_numeric_columns:\n",
    "    data[col] = pd.to_numeric(data[col], errors='coerce')\n",
    "\n",
    "data = pd.concat([first_column, data.iloc[:, 1:]], axis=1)\n",
    "\n",
    "print(data)"
   ]
  },
  {
   "cell_type": "code",
   "execution_count": 7,
   "metadata": {},
   "outputs": [
    {
     "name": "stdout",
     "output_type": "stream",
     "text": [
      "Регіон     0.000000\n",
      "1950       7.142857\n",
      "1960       3.571429\n",
      "1970       3.571429\n",
      "1990       0.000000\n",
      "2000       0.000000\n",
      "2012       0.000000\n",
      "2014       7.142857\n",
      "2019      14.285714\n",
      "dtype: float64\n"
     ]
    }
   ],
   "source": [
    "# Порахуйте, яка частка пропусків міститься в кожній колонці (використовуйте методи isnull та sum)\n",
    "nulls_part = data.isnull().sum() / len(data) * 100\n",
    "print(nulls_part)"
   ]
  },
  {
   "cell_type": "code",
   "execution_count": 8,
   "metadata": {},
   "outputs": [
    {
     "name": "stdout",
     "output_type": "stream",
     "text": [
      "               Регіон   1950   1960   1970  1990  2000  2012   2014   2019\n",
      "0                Крим  230.0  206.0  160.0   130    73   126    NaN    NaN\n",
      "1           Вінницька  224.0  192.0  142.0   124    84   112  109.0   76.0\n",
      "2           Волинська  247.0  250.0  179.0   153   112   148  141.0  101.0\n",
      "3    Дніпропетровська  204.0  204.0  151.0   123    71   112  111.0   71.0\n",
      "4            Донецька  271.0  214.0  140.0   109    61    98   82.0    NaN\n",
      "5         Житомирська  261.0  223.0  159.0   129    89   122  120.0   79.0\n",
      "6        Закарпатська  314.0  273.0  207.0   168   115   151  146.0  104.0\n",
      "7          Запорізька  219.0  197.0  150.0   124    71   106  106.0   68.0\n",
      "8   Івано-Франківська  243.0  248.0  182.0   155   103   124  122.0   88.0\n",
      "9            Київська  204.0  189.0  156.0   123    73   122  121.0   80.0\n",
      "10     Кіровоградська  216.0  171.0  145.0   126    79   110  108.0   68.0\n",
      "11          Луганська  262.0  235.0  144.0   116    62    96   51.0    NaN\n",
      "12          Львівська  234.0  240.0  171.0   140    91   119  119.0   87.0\n",
      "13       Миколаївська  211.0  194.0  155.0   137    80   115  112.0   71.0\n",
      "14            Одеська  241.0  192.0  148.0   126    80   127  123.0   88.0\n",
      "15         Полтавська  186.0  163.0  131.0   118    70    99  100.0   65.0\n",
      "16         Рівненська  269.0  267.0  193.0   158   118   159  148.0  107.0\n",
      "17            Сумська  216.0  184.0  132.0   115    70    97   92.0   60.0\n",
      "18      Тернопільська  213.0  216.0  157.0   142    92   113  109.0   76.0\n",
      "19         Харківська  197.0  173.0  140.0   114    68    99  101.0   68.0\n",
      "20         Херсонська  208.0  214.0  166.0   143    85   117  115.0   81.0\n",
      "21        Хмельницька  234.0  198.0  148.0   129    85   113  112.0   79.0\n",
      "22          Черкаська  205.0  179.0  144.0   123    75   100   98.0   64.0\n",
      "23        Чернівецька  247.0  218.0  170.0   148   101   128  129.0   92.0\n",
      "24       Чернігівська  220.0  183.0  127.0   108    69    94   90.0   61.0\n",
      "25               Київ    NaN  174.0  159.0   120    73   120  121.0  110.0\n",
      "26        Севастополь    NaN    NaN    NaN   125    70   120    NaN    NaN\n"
     ]
    }
   ],
   "source": [
    "# Видаліть з таблиці дані по всій країні, останній рядок таблиці\n",
    "data = data.iloc[:-1]\n",
    "print(data)"
   ]
  },
  {
   "cell_type": "code",
   "execution_count": 9,
   "metadata": {},
   "outputs": [
    {
     "name": "stdout",
     "output_type": "stream",
     "text": [
      "               Регіон    1950        1960   1970  1990  2000  2012    2014  \\\n",
      "0                Крим  230.00  206.000000  160.0   130    73   126  111.44   \n",
      "1           Вінницька  224.00  192.000000  142.0   124    84   112  109.00   \n",
      "2           Волинська  247.00  250.000000  179.0   153   112   148  141.00   \n",
      "3    Дніпропетровська  204.00  204.000000  151.0   123    71   112  111.00   \n",
      "4            Донецька  271.00  214.000000  140.0   109    61    98   82.00   \n",
      "5         Житомирська  261.00  223.000000  159.0   129    89   122  120.00   \n",
      "6        Закарпатська  314.00  273.000000  207.0   168   115   151  146.00   \n",
      "7          Запорізька  219.00  197.000000  150.0   124    71   106  106.00   \n",
      "8   Івано-Франківська  243.00  248.000000  182.0   155   103   124  122.00   \n",
      "9            Київська  204.00  189.000000  156.0   123    73   122  121.00   \n",
      "10     Кіровоградська  216.00  171.000000  145.0   126    79   110  108.00   \n",
      "11          Луганська  262.00  235.000000  144.0   116    62    96   51.00   \n",
      "12          Львівська  234.00  240.000000  171.0   140    91   119  119.00   \n",
      "13       Миколаївська  211.00  194.000000  155.0   137    80   115  112.00   \n",
      "14            Одеська  241.00  192.000000  148.0   126    80   127  123.00   \n",
      "15         Полтавська  186.00  163.000000  131.0   118    70    99  100.00   \n",
      "16         Рівненська  269.00  267.000000  193.0   158   118   159  148.00   \n",
      "17            Сумська  216.00  184.000000  132.0   115    70    97   92.00   \n",
      "18      Тернопільська  213.00  216.000000  157.0   142    92   113  109.00   \n",
      "19         Харківська  197.00  173.000000  140.0   114    68    99  101.00   \n",
      "20         Херсонська  208.00  214.000000  166.0   143    85   117  115.00   \n",
      "21        Хмельницька  234.00  198.000000  148.0   129    85   113  112.00   \n",
      "22          Черкаська  205.00  179.000000  144.0   123    75   100   98.00   \n",
      "23        Чернівецька  247.00  218.000000  170.0   148   101   128  129.00   \n",
      "24       Чернігівська  220.00  183.000000  127.0   108    69    94   90.00   \n",
      "25               Київ  231.04  174.000000  159.0   120    73   120  121.00   \n",
      "26        Севастополь  231.04  207.576923  156.0   125    70   120  111.44   \n",
      "\n",
      "          2019  \n",
      "0    80.173913  \n",
      "1    76.000000  \n",
      "2   101.000000  \n",
      "3    71.000000  \n",
      "4    80.173913  \n",
      "5    79.000000  \n",
      "6   104.000000  \n",
      "7    68.000000  \n",
      "8    88.000000  \n",
      "9    80.000000  \n",
      "10   68.000000  \n",
      "11   80.173913  \n",
      "12   87.000000  \n",
      "13   71.000000  \n",
      "14   88.000000  \n",
      "15   65.000000  \n",
      "16  107.000000  \n",
      "17   60.000000  \n",
      "18   76.000000  \n",
      "19   68.000000  \n",
      "20   81.000000  \n",
      "21   79.000000  \n",
      "22   64.000000  \n",
      "23   92.000000  \n",
      "24   61.000000  \n",
      "25  110.000000  \n",
      "26   80.173913  \n"
     ]
    }
   ],
   "source": [
    "# Замініть відсутні дані в стовпцях середніми значеннями цих стовпців (метод fillna)\n",
    "mean_values = data.mean(numeric_only=True)\n",
    "data = data.fillna(mean_values)\n",
    "print(data)"
   ]
  },
  {
   "cell_type": "code",
   "execution_count": 10,
   "metadata": {},
   "outputs": [
    {
     "name": "stdout",
     "output_type": "stream",
     "text": [
      "2             Волинська\n",
      "6          Закарпатська\n",
      "8     Івано-Франківська\n",
      "12            Львівська\n",
      "14              Одеська\n",
      "16           Рівненська\n",
      "20           Херсонська\n",
      "23          Чернівецька\n",
      "25                 Київ\n",
      "Name: Регіон, dtype: object\n"
     ]
    }
   ],
   "source": [
    "# Отримайте список регіонів, де рівень народжуваності у 2019 році був вищим за середній по Україні\n",
    "regions_higher_than_average_2019 = data[data['2019'] > data['2019'].mean()]['Регіон']\n",
    "print(regions_higher_than_average_2019)"
   ]
  },
  {
   "cell_type": "code",
   "execution_count": 11,
   "metadata": {},
   "outputs": [
    {
     "name": "stdout",
     "output_type": "stream",
     "text": [
      "Рівненська\n"
     ]
    }
   ],
   "source": [
    "# У якому регіоні була найвища народжуваність у 2014 році?\n",
    "region_highest_birth_rate_2014 = data[data['2014'] == data['2014'].max()]['Регіон'].values[0]\n",
    "print(region_highest_birth_rate_2014)"
   ]
  },
  {
   "cell_type": "code",
   "execution_count": 12,
   "metadata": {},
   "outputs": [
    {
     "data": {
      "image/png": "[encoded data removed]",
      "text/plain": [
       "<Figure size 1000x600 with 1 Axes>"
      ]
     },
     "metadata": {},
     "output_type": "display_data"
    }
   ],
   "source": [
    "data.plot(kind='bar', x='Регіон', y='2019', figsize=(10, 6))\n",
    "plt.title('Народжуваність по регіонах у 2019 році')\n",
    "plt.xlabel('Регіон')\n",
    "plt.ylabel('Народжуваність')\n",
    "plt.xticks(rotation=90)\n",
    "plt.show()"
   ]
  }
 ],
 "metadata": {
  "kernelspec": {
   "display_name": "ds2-LPJ6Zn_j-py3.11",
   "language": "python",
   "name": "python3"
  },
  "language_info": {
   "codemirror_mode": {
    "name": "ipython",
    "version": 3
   },
   "file_extension": ".py",
   "mimetype": "text/x-python",
   "name": "python",
   "nbconvert_exporter": "python",
   "pygments_lexer": "ipython3",
   "version": "3.11.4"
  }
 },
 "nbformat": 4,
 "nbformat_minor": 2
}
