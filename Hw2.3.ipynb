{
 "cells": [
  {
   "cell_type": "code",
   "execution_count": 11,
   "metadata": {},
   "outputs": [],
   "source": [
    "import pandas as pd\n",
    "import matplotlib.pyplot as plt\n",
    "\n",
    "\n",
    "# Прочитайте csv файл (використовуйте функцію read_csv)\n",
    "df = pd.read_csv(\"bestsellers with categories.csv\")"
   ]
  },
  {
   "cell_type": "code",
   "execution_count": 12,
   "metadata": {},
   "outputs": [
    {
     "name": "stdout",
     "output_type": "stream",
     "text": [
      "<bound method NDFrame.head of                                                   Name  \\\n",
      "0                        10-Day Green Smoothie Cleanse   \n",
      "1                                    11/22/63: A Novel   \n",
      "2              12 Rules for Life: An Antidote to Chaos   \n",
      "3                               1984 (Signet Classics)   \n",
      "4    5,000 Awesome Facts (About Everything!) (Natio...   \n",
      "..                                                 ...   \n",
      "545       Wrecking Ball (Diary of a Wimpy Kid Book 14)   \n",
      "546  You Are a Badass: How to Stop Doubting Your Gr...   \n",
      "547  You Are a Badass: How to Stop Doubting Your Gr...   \n",
      "548  You Are a Badass: How to Stop Doubting Your Gr...   \n",
      "549  You Are a Badass: How to Stop Doubting Your Gr...   \n",
      "\n",
      "                       Author  User Rating  Reviews  Price  Year        Genre  \n",
      "0                    JJ Smith          4.7    17350      8  2016  Non Fiction  \n",
      "1                Stephen King          4.6     2052     22  2011      Fiction  \n",
      "2          Jordan B. Peterson          4.7    18979     15  2018  Non Fiction  \n",
      "3               George Orwell          4.7    21424      6  2017      Fiction  \n",
      "4    National Geographic Kids          4.8     7665     12  2019  Non Fiction  \n",
      "..                        ...          ...      ...    ...   ...          ...  \n",
      "545               Jeff Kinney          4.9     9413      8  2019      Fiction  \n",
      "546               Jen Sincero          4.7    14331      8  2016  Non Fiction  \n",
      "547               Jen Sincero          4.7    14331      8  2017  Non Fiction  \n",
      "548               Jen Sincero          4.7    14331      8  2018  Non Fiction  \n",
      "549               Jen Sincero          4.7    14331      8  2019  Non Fiction  \n",
      "\n",
      "[550 rows x 7 columns]>\n"
     ]
    }
   ],
   "source": [
    "# Виведіть перші п'ять рядків (використовується функція head)\n",
    "print(df.head)"
   ]
  },
  {
   "cell_type": "code",
   "execution_count": 13,
   "metadata": {},
   "outputs": [
    {
     "name": "stdout",
     "output_type": "stream",
     "text": [
      "(550, 7)\n",
      "Про скільки книг зберігає дані датасет? Відповідь: 550\n"
     ]
    }
   ],
   "source": [
    "# Виведіть розміри датасету (використовуйте атрибут shape)\n",
    "df_size = df.shape\n",
    "print(df_size)\n",
    "\n",
    "books_in_df = df_size[0]\n",
    "print(f'Про скільки книг зберігає дані датасет? Відповідь: {books_in_df}')"
   ]
  },
  {
   "cell_type": "code",
   "execution_count": 14,
   "metadata": {},
   "outputs": [],
   "source": [
    "# Давайте змінимо регістр на малий, а пробіл замінимо на нижнє підкреслення (snake_style). А заразом і вивчимо корисний атрибут датафрейму: columns (можна просто присвоїти список нових імен цьому атрибуту)\n",
    "\n",
    "df.columns = ['name', 'author', 'user_rating', 'reviews', 'price', 'year', 'genre']"
   ]
  },
  {
   "cell_type": "code",
   "execution_count": 15,
   "metadata": {},
   "outputs": [
    {
     "name": "stdout",
     "output_type": "stream",
     "text": [
      "Про скільки книг зберігає дані датасет? Відповідь: 351\n"
     ]
    }
   ],
   "source": [
    "unique_books_count = len(df['name'].drop_duplicates())\n",
    "print(f'Про скільки книг зберігає дані датасет? Відповідь: {unique_books_count}')"
   ]
  },
  {
   "cell_type": "code",
   "execution_count": 16,
   "metadata": {},
   "outputs": [
    {
     "name": "stdout",
     "output_type": "stream",
     "text": [
      "name           0\n",
      "author         0\n",
      "user_rating    0\n",
      "reviews        0\n",
      "price          0\n",
      "year           0\n",
      "genre          0\n",
      "dtype: int64\n"
     ]
    }
   ],
   "source": [
    "# Перевірте, чи у всіх рядків вистачає даних: виведіть кількість пропусків (na) у кожному зі стовпців (використовуйте функції isna та sum)\n",
    "# Відповідь: Чи є в якихось змінних пропуски? (Так / ні)\n",
    "\n",
    "na_per_column = df.isna().sum()\n",
    "print(na_per_column)"
   ]
  },
  {
   "cell_type": "code",
   "execution_count": 17,
   "metadata": {},
   "outputs": [
    {
     "name": "stdout",
     "output_type": "stream",
     "text": [
      "['Non Fiction' 'Fiction']\n",
      "Які є унікальні жанри? Відповідь: ['Non Fiction' 'Fiction']\n"
     ]
    }
   ],
   "source": [
    "# Перевірте, які є унікальні значення в колонці genre (використовуйте функцію unique)\n",
    "\n",
    "uniq_genre = df['genre'].unique()\n",
    "print(uniq_genre)\n",
    "print(f'Які є унікальні жанри? Відповідь: {uniq_genre}')"
   ]
  },
  {
   "cell_type": "code",
   "execution_count": 18,
   "metadata": {},
   "outputs": [
    {
     "data": {
      "image/png": "[encoded data removed]",
      "text/plain": [
       "<Figure size 640x480 with 1 Axes>"
      ]
     },
     "metadata": {},
     "output_type": "display_data"
    }
   ],
   "source": [
    "# Тепер подивіться на розподіл цін: побудуйте діаграму (використовуйте kind='hist')\n",
    "\n",
    "df['price'].plot(kind='hist')\n",
    "\n",
    "plt.title('Розподіл цін')\n",
    "plt.xlabel('Ціна')\n",
    "plt.ylabel('Частота')\n",
    "plt.show()"
   ]
  },
  {
   "cell_type": "code",
   "execution_count": 19,
   "metadata": {},
   "outputs": [
    {
     "name": "stdout",
     "output_type": "stream",
     "text": [
      "Максимальна ціна? Відповідь: 105\n",
      "Мінімальна ціна? Відповідь: 0\n",
      "Середня ціна? Відповідь: 13.1\n",
      "Медіанна ціна? Відповідь: 11.0\n"
     ]
    }
   ],
   "source": [
    "# Визначте, яка ціна у нас максимальна, мінімальна, середня, медіанна (використовуйте функції max, min, mean, median)\n",
    "\n",
    "max_price = df['price'].max()\n",
    "min_price = df['price'].min()\n",
    "mean_price = df['price'].mean()\n",
    "median_price = df['price'].median()\n",
    "\n",
    "print(f\"Максимальна ціна? Відповідь: {max_price}\")\n",
    "print(f\"Мінімальна ціна? Відповідь: {min_price}\")\n",
    "print(f\"Середня ціна? Відповідь: {mean_price}\")\n",
    "print(f\"Медіанна ціна? Відповідь: {median_price}\")"
   ]
  },
  {
   "cell_type": "code",
   "execution_count": 20,
   "metadata": {},
   "outputs": [
    {
     "name": "stdout",
     "output_type": "stream",
     "text": [
      "Який рейтинг у датасеті найвищий? Відповідь: 4.9\n",
      "Скільки книг мають такий рейтинг? Відповідь: 52\n",
      "Яка книга має найбільше відгуків? Відповідь: 52\n",
      "З тих книг, що потрапили до Топ-50 у 2015 році, яка книга найдорожча? Відповідь:                                                   name  \\\n",
      "277  Publication Manual of the American Psychologic...   \n",
      "\n",
      "                                 author  user_rating  reviews  price  year  \\\n",
      "277  American Psychological Association          4.5     8580     46  2015   \n",
      "\n",
      "           genre  \n",
      "277  Non Fiction  \n",
      "Скільки книг жанру Fiction потрапили до Топ-50 у 2010 році (використовуйте &)? Відповідь: 20\n",
      "Скільки книг з рейтингом 4.9 потрапило до рейтингу у 2010 та 2011 роках (використовуйте | або функцію isin)? Відповідь: 20\n",
      "Яка книга остання у відсортованому списку? Відповідь: name           Old School (Diary of a Wimpy Kid #10)\n",
      "author                                   Jeff Kinney\n",
      "user_rating                                      4.8\n",
      "reviews                                         6169\n",
      "price                                              7\n",
      "year                                            2015\n",
      "genre                                        Fiction\n",
      "Name: 253, dtype: object\n"
     ]
    }
   ],
   "source": [
    "# Пошук та сортування даних\n",
    "\n",
    "max_rating = df['user_rating'].max()\n",
    "print(f'Який рейтинг у датасеті найвищий? Відповідь: {max_rating}')\n",
    "\n",
    "books_with_max_rating = df[df['user_rating'] == max_rating].shape[0]\n",
    "print(f'Скільки книг мають такий рейтинг? Відповідь: {books_with_max_rating}')\n",
    "\n",
    "max_reviews_index = df['reviews'].idxmax()\n",
    "book_with_most_reviews = df.loc[max_reviews_index]\n",
    "print(f'Яка книга має найбільше відгуків? Відповідь: {books_with_max_rating}')\n",
    "\n",
    "data_2015 = df[df['year'] == 2015]\n",
    "top_50_2015 = data_2015.nlargest(50, 'price')\n",
    "most_expensive_2015 = top_50_2015.nlargest(1, 'price')\n",
    "print(f'З тих книг, що потрапили до Топ-50 у 2015 році, яка книга найдорожча? Відповідь: {most_expensive_2015}')\n",
    "\n",
    "data_2010_fiction = df[(df['year'] == 2010) & (df['genre'] == 'Fiction')]\n",
    "fiction_in_top_50_2010 = data_2010_fiction.shape[0]\n",
    "print(f'Скільки книг жанру Fiction потрапили до Топ-50 у 2010 році (використовуйте &)? Відповідь: {fiction_in_top_50_2010}')\n",
    "\n",
    "data_4_9_2010_2011 = df[(df['user_rating'] == 4.9) & (df['year'].isin([2010, 2011]))]\n",
    "count_4_9_2010_2011 = data_4_9_2010_2011.shape[0]\n",
    "print(f'Скільки книг з рейтингом 4.9 потрапило до рейтингу у 2010 та 2011 роках (використовуйте | або функцію isin)? Відповідь: {fiction_in_top_50_2010}')\n",
    "\n",
    "data_2015_under_8 = df[(df['year'] == 2015) & (df['price'] < 8)]\n",
    "sorted_data_2015_under_8 = data_2015_under_8.sort_values(by='price')\n",
    "last_book_sorted = sorted_data_2015_under_8.iloc[-1]\n",
    "print(f'Яка книга остання у відсортованому списку? Відповідь: {last_book_sorted}')"
   ]
  },
  {
   "cell_type": "code",
   "execution_count": 21,
   "metadata": {},
   "outputs": [
    {
     "name": "stdout",
     "output_type": "stream",
     "text": [
      "             min  max\n",
      "genre                \n",
      "Fiction        0   82\n",
      "Non Fiction    0  105\n",
      "Максимальна ціна для жанру Fiction: Відповідь: 82\n",
      "Мінімальна ціна для жанру Fiction: Відповідь: 0\n",
      "Максимальна ціна для жанру Non Fiction: Відповідь: 105\n",
      "Мінімальна ціна для жанру Non Fiction: Відповідь: 0\n"
     ]
    }
   ],
   "source": [
    "# Агрегування даних та з'єднання таблиць\n",
    "\n",
    "genre_price_stats = df.groupby('genre')['price'].agg(['min', 'max'])\n",
    "print(genre_price_stats)\n",
    "\n",
    "max_price_fiction = genre_price_stats.loc['Fiction', 'max']\n",
    "min_price_fiction = genre_price_stats.loc['Fiction', 'min']\n",
    "\n",
    "max_price_non_fiction = genre_price_stats.loc['Non Fiction', 'max']\n",
    "min_price_non_fiction = genre_price_stats.loc['Non Fiction', 'min']\n",
    "\n",
    "print(f'Максимальна ціна для жанру Fiction: Відповідь: {max_price_fiction}')\n",
    "print(f'Мінімальна ціна для жанру Fiction: Відповідь: {min_price_fiction}')\n",
    "print(f'Максимальна ціна для жанру Non Fiction: Відповідь: {max_price_non_fiction}')\n",
    "print(f'Мінімальна ціна для жанру Non Fiction: Відповідь: {min_price_non_fiction}')"
   ]
  },
  {
   "cell_type": "code",
   "execution_count": 22,
   "metadata": {},
   "outputs": [
    {
     "name": "stdout",
     "output_type": "stream",
     "text": [
      "                            book_count\n",
      "author                                \n",
      "Abraham Verghese                     2\n",
      "Adam Gasiewski                       1\n",
      "Adam Mansbach                        1\n",
      "Adir Levy                            1\n",
      "Admiral William H. McRaven           1\n",
      "...                                ...\n",
      "Walter Isaacson                      3\n",
      "William Davis                        2\n",
      "William P. Young                     2\n",
      "Wizards RPG Team                     3\n",
      "Zhi Gang Sha                         2\n",
      "\n",
      "[248 rows x 1 columns]\n",
      "Якої розмірності вийшла таблиця? Відповідь: (248, 1)\n",
      "Який автор має найбільше книг? Відповідь: book_count    Jeff Kinney\n",
      "dtype: object\n",
      "Скільки книг цього автора? Відповідь: book_count    12\n",
      "dtype: int64\n"
     ]
    }
   ],
   "source": [
    "# Групування та підрахунок кількості книг для кожного автора\n",
    "\n",
    "author_book_count = df.groupby('author')['name'].agg(book_count='count')\n",
    "print(author_book_count)\n",
    "\n",
    "dimensions = author_book_count.shape\n",
    "author_most_books = author_book_count.idxmax()\n",
    "num_books_author_most = author_book_count.max()\n",
    "\n",
    "print(f'Якої розмірності вийшла таблиця? Відповідь: {dimensions}')\n",
    "print(f'Який автор має найбільше книг? Відповідь: {author_most_books}')\n",
    "print(f'Скільки книг цього автора? Відповідь: {num_books_author_most}')"
   ]
  },
  {
   "cell_type": "code",
   "execution_count": 23,
   "metadata": {},
   "outputs": [
    {
     "name": "stdout",
     "output_type": "stream",
     "text": [
      "                            avg_rating\n",
      "author                                \n",
      "Abraham Verghese              4.600000\n",
      "Adam Gasiewski                4.400000\n",
      "Adam Mansbach                 4.800000\n",
      "Adir Levy                     4.800000\n",
      "Admiral William H. McRaven    4.700000\n",
      "...                                ...\n",
      "Walter Isaacson               4.566667\n",
      "William Davis                 4.400000\n",
      "William P. Young              4.600000\n",
      "Wizards RPG Team              4.800000\n",
      "Zhi Gang Sha                  4.600000\n",
      "\n",
      "[248 rows x 1 columns]\n",
      "У якого автора середній рейтинг мінімальний? Відповідь: avg_rating    Donna Tartt\n",
      "dtype: object\n",
      "Який у цього автора середній рейтинг? Відповідь: avg_rating    3.9\n",
      "dtype: float64\n"
     ]
    }
   ],
   "source": [
    "# Створення датафрейму з середнім рейтингом для кожного автора\n",
    "\n",
    "author_avg_rating = df.groupby('author')['user_rating'].agg(avg_rating='mean')\n",
    "print(author_avg_rating)\n",
    "\n",
    "author_min_avg_rating = author_avg_rating.idxmin()\n",
    "min_avg_rating = author_avg_rating.min()\n",
    "\n",
    "print(f'У якого автора середній рейтинг мінімальний? Відповідь: {author_min_avg_rating}')\n",
    "print(f'Який у цього автора середній рейтинг? Відповідь: {min_avg_rating}')"
   ]
  },
  {
   "cell_type": "code",
   "execution_count": 24,
   "metadata": {},
   "outputs": [
    {
     "name": "stdout",
     "output_type": "stream",
     "text": [
      "Який автор перший у списку? Відповідь: Muriel Barbery\n"
     ]
    }
   ],
   "source": [
    "# З'єднання датафреймів для кожного автора, що містить кількість книг та середній рейтинг\n",
    "\n",
    "author_info = pd.concat([author_book_count, author_avg_rating], axis=1)\n",
    "author_info_sorted = author_info.sort_values(by=['book_count', 'avg_rating'])\n",
    "\n",
    "first_author = author_info_sorted.index[0]\n",
    "print(f'Який автор перший у списку? Відповідь: {first_author}')"
   ]
  }
 ],
 "metadata": {
  "kernelspec": {
   "display_name": "ds2-LPJ6Zn_j-py3.11",
   "language": "python",
   "name": "python3"
  },
  "language_info": {
   "codemirror_mode": {
    "name": "ipython",
    "version": 3
   },
   "file_extension": ".py",
   "mimetype": "text/x-python",
   "name": "python",
   "nbconvert_exporter": "python",
   "pygments_lexer": "ipython3",
   "version": "3.11.4"
  }
 },
 "nbformat": 4,
 "nbformat_minor": 2
}
