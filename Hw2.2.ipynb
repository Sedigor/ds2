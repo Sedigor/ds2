{
 "cells": [
  {
   "cell_type": "code",
   "execution_count": 1,
   "metadata": {},
   "outputs": [],
   "source": [
    "import pandas as pd\n",
    "\n",
    "data = pd.read_csv(\"2017_jun_final.csv\")"
   ]
  },
  {
   "cell_type": "code",
   "execution_count": 2,
   "metadata": {},
   "outputs": [
    {
     "name": "stdout",
     "output_type": "stream",
     "text": [
      "   N                 Должность Язык.программирования Специализация  \\\n",
      "0  1        Junior QA engineer                   NaN     Manual QA   \n",
      "1  2        Junior QA engineer                   NaN     Manual QA   \n",
      "2  3         Software Engineer               C#/.NET           NaN   \n",
      "3  4         Software Engineer            JavaScript           NaN   \n",
      "4  5  Senior Software Engineer            JavaScript           NaN   \n",
      "\n",
      "  Общий.опыт.работы Опыт.работы.на.текущем.месте  Зарплата.в.месяц  \\\n",
      "0               0.5                          0.5               400   \n",
      "1  меньше 3 месяцев             меньше 3 месяцев               430   \n",
      "2                 4                            1              2500   \n",
      "3                 5                            4              2000   \n",
      "4    10 и более лет                          0.5              4500   \n",
      "\n",
      "   Изменение.зарплаты.за.12.месяцев    Город     Размер.компании  ...  \\\n",
      "0                                 0  Харьков       до 10 человек  ...   \n",
      "1                               130  Харьков  свыше 1000 человек  ...   \n",
      "2                               800     Киев     до 1000 человек  ...   \n",
      "3                               400   Одесса      до 200 человек  ...   \n",
      "4                               500   Другой       до 10 человек  ...   \n",
      "\n",
      "  Еще.студент Уровень.английского                    Предметная.область  \\\n",
      "0        True       ниже среднего                         iOS,eCommerce   \n",
      "1        True       выше среднего                        Веб-разработка   \n",
      "2       False             средний  Веб-разработка,Корпоративные системы   \n",
      "3       False       ниже среднего   Desktop Applications,Веб-разработка   \n",
      "4       False             средний   Desktop Applications,Веб-разработка   \n",
      "\n",
      "       Дата.заполнения                                         User.Agent  \\\n",
      "0  12/06/2017 12:38:08  Mozilla/5.0 (Windows NT 10.0; Win64; x64) Appl...   \n",
      "1  12/06/2017 12:42:51  Mozilla/5.0 (iPad; CPU OS 10_2_1 like Mac OS X...   \n",
      "2  12/06/2017 13:02:47  Mozilla/5.0 (Windows NT 10.0; Win64; x64) Appl...   \n",
      "3  12/06/2017 13:03:01  Mozilla/5.0 (Windows NT 6.1; Win64; x64) Apple...   \n",
      "4  12/06/2017 13:03:47  Mozilla/5.0 (iPhone; CPU iPhone OS 10_3_2 like...   \n",
      "\n",
      "    exp current_job_exp salary Валюта  cls  \n",
      "0   0.5             0.5    400    NaN   QA  \n",
      "1   0.0             0.0    430    NaN   QA  \n",
      "2   4.0             1.0   2500    NaN  DEV  \n",
      "3   5.0             4.0   2000    NaN  DEV  \n",
      "4  10.0             0.5   4500    NaN  DEV  \n",
      "\n",
      "[5 rows x 25 columns]\n"
     ]
    }
   ],
   "source": [
    "# Прочитайте отриману таблицю, використовуючи метод head\n",
    "\n",
    "print(data.head())"
   ]
  },
  {
   "cell_type": "code",
   "execution_count": 3,
   "metadata": {},
   "outputs": [
    {
     "name": "stdout",
     "output_type": "stream",
     "text": [
      "(8704, 25)\n"
     ]
    }
   ],
   "source": [
    "# Визначте розмір таблиці за допомогою методу shape\n",
    "\n",
    "print(data.shape)"
   ]
  },
  {
   "cell_type": "code",
   "execution_count": 4,
   "metadata": {},
   "outputs": [
    {
     "name": "stdout",
     "output_type": "stream",
     "text": [
      "N                                     int64\n",
      "Должность                            object\n",
      "Язык.программирования                object\n",
      "Специализация                        object\n",
      "Общий.опыт.работы                    object\n",
      "Опыт.работы.на.текущем.месте         object\n",
      "Зарплата.в.месяц                      int64\n",
      "Изменение.зарплаты.за.12.месяцев      int64\n",
      "Город                                object\n",
      "Размер.компании                      object\n",
      "Тип.компании                         object\n",
      "Пол                                  object\n",
      "Возраст                               int64\n",
      "Образование                          object\n",
      "Университет                          object\n",
      "Еще.студент                            bool\n",
      "Уровень.английского                  object\n",
      "Предметная.область                   object\n",
      "Дата.заполнения                      object\n",
      "User.Agent                           object\n",
      "exp                                 float64\n",
      "current_job_exp                     float64\n",
      "salary                                int64\n",
      "Валюта                               object\n",
      "cls                                  object\n",
      "dtype: object\n"
     ]
    }
   ],
   "source": [
    "# Визначте типи всіх стовпців за допомогою dataframe.dtypes\n",
    "\n",
    "print(data.dtypes)"
   ]
  },
  {
   "cell_type": "code",
   "execution_count": 5,
   "metadata": {},
   "outputs": [
    {
     "name": "stdout",
     "output_type": "stream",
     "text": [
      "Missing in percent\n",
      "\n",
      "N                                    0.000000\n",
      "Должность                            0.000000\n",
      "Язык.программирования               44.232537\n",
      "Специализация                       82.938879\n",
      "Общий.опыт.работы                    0.000000\n",
      "Опыт.работы.на.текущем.месте         0.000000\n",
      "Зарплата.в.месяц                     0.000000\n",
      "Изменение.зарплаты.за.12.месяцев     0.000000\n",
      "Город                                0.000000\n",
      "Размер.компании                      0.000000\n",
      "Тип.компании                         0.000000\n",
      "Пол                                  0.000000\n",
      "Возраст                              0.000000\n",
      "Образование                          0.000000\n",
      "Университет                          4.113051\n",
      "Еще.студент                          0.000000\n",
      "Уровень.английского                  0.000000\n",
      "Предметная.область                   2.562040\n",
      "Дата.заполнения                      0.000000\n",
      "User.Agent                           0.000000\n",
      "exp                                  0.000000\n",
      "current_job_exp                      0.000000\n",
      "salary                               0.000000\n",
      "Валюта                              99.885110\n",
      "cls                                 18.083640\n",
      "dtype: float64\n"
     ]
    }
   ],
   "source": [
    "# Порахуйте, яка частка пропусків міститься в кожній колонці (використовуйте методи isnull та sum)\n",
    "\n",
    "nulls_part = data.isnull().sum() / len(data) * 100\n",
    "\n",
    "print('Missing in percent\\n')\n",
    "print(nulls_part)"
   ]
  },
  {
   "cell_type": "code",
   "execution_count": 10,
   "metadata": {},
   "outputs": [
    {
     "name": "stdout",
     "output_type": "stream",
     "text": [
      "         N     Должность Язык.программирования  Специализация  \\\n",
      "3649  3650  QA Tech Lead                   NaN  Automation QA   \n",
      "\n",
      "     Общий.опыт.работы Опыт.работы.на.текущем.месте  Зарплата.в.месяц  \\\n",
      "3649                 9                            3              6000   \n",
      "\n",
      "      Изменение.зарплаты.за.12.месяцев  Город  Размер.компании  ...  \\\n",
      "3649                               500  Днепр  до 1000 человек  ...   \n",
      "\n",
      "     Еще.студент Уровень.английского         Предметная.область  \\\n",
      "3649       False        элементарный  Финансы и банки,eCommerce   \n",
      "\n",
      "          Дата.заполнения                                         User.Agent  \\\n",
      "3649  13/06/2017 22:22:50  Mozilla/5.0 (Windows NT 10.0; Win64; x64) Appl...   \n",
      "\n",
      "      exp current_job_exp salary Валюта cls  \n",
      "3649  9.0             3.0   6000      h  QA  \n",
      "\n",
      "[1 rows x 25 columns]\n"
     ]
    }
   ],
   "source": [
    "# Видаліть усі стовпці з пропусками, крім стовпця \"Мова програмування\"\n",
    "\n",
    "data = data.dropna(subset=data.columns[data.columns != 'Язык.программирования'])\n",
    "print(data)"
   ]
  },
  {
   "cell_type": "code",
   "execution_count": 11,
   "metadata": {},
   "outputs": [
    {
     "name": "stdout",
     "output_type": "stream",
     "text": [
      "Missing in percent\n",
      "\n",
      "N                                     0.0\n",
      "Должность                             0.0\n",
      "Язык.программирования               100.0\n",
      "Специализация                         0.0\n",
      "Общий.опыт.работы                     0.0\n",
      "Опыт.работы.на.текущем.месте          0.0\n",
      "Зарплата.в.месяц                      0.0\n",
      "Изменение.зарплаты.за.12.месяцев      0.0\n",
      "Город                                 0.0\n",
      "Размер.компании                       0.0\n",
      "Тип.компании                          0.0\n",
      "Пол                                   0.0\n",
      "Возраст                               0.0\n",
      "Образование                           0.0\n",
      "Университет                           0.0\n",
      "Еще.студент                           0.0\n",
      "Уровень.английского                   0.0\n",
      "Предметная.область                    0.0\n",
      "Дата.заполнения                       0.0\n",
      "User.Agent                            0.0\n",
      "exp                                   0.0\n",
      "current_job_exp                       0.0\n",
      "salary                                0.0\n",
      "Валюта                                0.0\n",
      "cls                                   0.0\n",
      "dtype: float64\n"
     ]
    }
   ],
   "source": [
    "# Знову порахуйте, яка частка пропусків міститься в кожній колонці і переконайтеся, що залишився тільки стовпець \"Мова.програмування\"\n",
    "\n",
    "nulls_part = data.isnull().sum() / len(data) * 100\n",
    "\n",
    "print('Missing in percent\\n')\n",
    "print(nulls_part)"
   ]
  },
  {
   "cell_type": "code",
   "execution_count": 12,
   "metadata": {},
   "outputs": [
    {
     "name": "stdout",
     "output_type": "stream",
     "text": [
      "Empty DataFrame\n",
      "Columns: [N, Должность, Язык.программирования, Специализация, Общий.опыт.работы, Опыт.работы.на.текущем.месте, Зарплата.в.месяц, Изменение.зарплаты.за.12.месяцев, Город, Размер.компании, Тип.компании, Пол, Возраст, Образование, Университет, Еще.студент, Уровень.английского, Предметная.область, Дата.заполнения, User.Agent, exp, current_job_exp, salary, Валюта, cls]\n",
      "Index: []\n",
      "\n",
      "[0 rows x 25 columns]\n"
     ]
    }
   ],
   "source": [
    "# Видаліть усі рядки у вихідній таблиці за допомогою методу dropna\n",
    "\n",
    "data_without_missing = data.dropna()\n",
    "print(data_without_missing)"
   ]
  },
  {
   "cell_type": "code",
   "execution_count": 13,
   "metadata": {},
   "outputs": [
    {
     "name": "stdout",
     "output_type": "stream",
     "text": [
      "(1, 25)\n"
     ]
    }
   ],
   "source": [
    "# Визначте новий розмір таблиці за допомогою методу shape\n",
    "print(data.shape)"
   ]
  }
 ],
 "metadata": {
  "kernelspec": {
   "display_name": "ds2-LPJ6Zn_j-py3.11",
   "language": "python",
   "name": "python3"
  },
  "language_info": {
   "codemirror_mode": {
    "name": "ipython",
    "version": 3
   },
   "file_extension": ".py",
   "mimetype": "text/x-python",
   "name": "python",
   "nbconvert_exporter": "python",
   "pygments_lexer": "ipython3",
   "version": "3.11.4"
  }
 },
 "nbformat": 4,
 "nbformat_minor": 2
}
